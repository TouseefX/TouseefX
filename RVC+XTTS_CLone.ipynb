{
  "nbformat": 4,
  "nbformat_minor": 0,
  "metadata": {
    "colab": {
      "provenance": [],
      "gpuType": "T4",
      "authorship_tag": "ABX9TyPxURT+wzLFCC7wuHQJLRVF",
      "include_colab_link": true
    },
    "kernelspec": {
      "name": "python3",
      "display_name": "Python 3"
    },
    "language_info": {
      "name": "python"
    },
    "accelerator": "GPU"
  },
  "cells": [
    {
      "cell_type": "markdown",
      "metadata": {
        "id": "view-in-github",
        "colab_type": "text"
      },
      "source": [
        "<a href=\"https://colab.research.google.com/github/TouseefX/TouseefX/blob/main/RVC%2BXTTS_CLone.ipynb\" target=\"_parent\"><img src=\"https://colab.research.google.com/assets/colab-badge.svg\" alt=\"Open In Colab\"/></a>"
      ]
    },
    {
      "cell_type": "markdown",
      "source": [
        "Install Python3.19 (VERY NEEDED)"
      ],
      "metadata": {
        "id": "RY_0k3ftkZIr"
      }
    },
    {
      "cell_type": "code",
      "source": [
        "!apt install wget git rm\n",
        "# speaking on contect we need to go to /root\n",
        "%cd /root\n",
        "%cd\n",
        "# Now Lets Get The Thing We Needed\n",
        "!wget https://www.python.org/ftp/python/3.9.18/Python-3.9.18.tar.xz\n",
        "!tar -xvf Python-3.9.18.tar.xz\n",
        "%cd Python-3.9.18\n",
        "# Now Let's Get Python Installer\n",
        "!rm -r /usr/bin/python\n",
        "!rm -r /usr/bin/python3\n",
        "!rm -r /usr/bin/python3\n",
        "!./configure\n",
        "!make\n",
        "!make install"
      ],
      "metadata": {
        "id": "cf-tUoRwkd_v"
      },
      "execution_count": null,
      "outputs": []
    },
    {
      "cell_type": "markdown",
      "source": [
        "If Installing failed Fix Here An Fix"
      ],
      "metadata": {
        "id": "gK0OIEIOqeKY"
      }
    },
    {
      "cell_type": "code",
      "source": [
        "!rm -r /usr/bin/python\n",
        "!rm -r /usr/bin/python3\n",
        "!rm -r /usr/bin/python3\n",
        "!wget https://www.python.org/ftp/python/3.9.18/Python-3.9.18.tgz\n",
        "!tar -xvf Python-3.9.18.tgz\n",
        "!cd Python-3.9.18 && ./configure --enable-optimizations && make -j 8 && make altinstall\n",
        "!ln -sf /usr/local/bin/python3.9 /usr/bin/python3"
      ],
      "metadata": {
        "id": "Zlc50Q73qjak"
      },
      "execution_count": null,
      "outputs": []
    },
    {
      "cell_type": "code",
      "source": [
        "# Now Let Install The Required Things\n",
        "%cd /\n",
        "!mkdir content\n",
        "%cd content\n",
        "!apt install python3.10-venv\n",
        "!git clone https://github.com/JarodMica/ai-voice-cloning.git\n",
        "%cd ai-voice-cloning\n",
        "# get local dependencies\n",
        "!git submodule init\n",
        "!git submodule update --remote\n",
        "# make venu (trun it on if you want to)\n",
        "#!python3 -m venv venv\n",
        "#!source ./venv/bin/activate\n",
        "!python3 -m pip install --upgrade pip # just to be safe\n",
        "# CUDA\n",
        "!pip3 install torch torchvision torchaudio\n",
        "# install requirements\n",
        "!pip install --upgrade setuptools twine\n",
        "# We Need to make sure that we won't install it in root\n",
        "!python3 -m pip install --user -r ./modules/tortoise-tts/requirements.txt # install TorToiSe requirements\n",
        "!python3 -m pip install --user -e ./modules/tortoise-tts/ # install TorToiSe\n",
        "!python3 -m pip install --user -r ./modules/dlas/requirements.txt # instal DLAS requirements, last, because whisperx will break a dependency here\n",
        "!python3 -m pip install --user -e ./modules/dlas/ # install DLAS\n",
        "!python3 -m pip install --user -r ./requirements.txt # install local requirements"
      ],
      "metadata": {
        "id": "hC-ixTs3mmqQ"
      },
      "execution_count": null,
      "outputs": []
    },
    {
      "cell_type": "code",
      "source": [
        "# update repo (debugging purposes)\n",
        "%cd /content/ai-voice-cloning/\n",
        "!chmod 777 update.sh\n",
        "!./update.sh"
      ],
      "metadata": {
        "id": "eTPyv_Iynk6W"
      },
      "execution_count": null,
      "outputs": []
    },
    {
      "cell_type": "markdown",
      "source": [
        "Mout Drive"
      ],
      "metadata": {
        "id": "nUXbkNU4ntG0"
      }
    },
    {
      "cell_type": "code",
      "source": [
        "# only run once, this will save all userdata to your Drive\n",
        "# it shouldn't delete through symlinks, but you never know\n",
        "\n",
        "from google.colab import drive\n",
        "\n",
        "%cd /content/ai-voice-cloning\n",
        "drive.flush_and_unmount()\n",
        "!rm -r ./{training,results,voices,config}\n",
        "drive.mount('/content/drive')\n",
        "!mkdir /content/drive/MyDrive/ai-voice-cloning/\n",
        "!mv /content/drive/MyDrive/{training,results,voices,config} /content/drive/MyDrive/ai-voice-cloning\n",
        "!mkdir /content/drive/MyDrive/ai-voice-cloning/{training,results,voices,config}\n",
        "!ln -s /content/drive/MyDrive/ai-voice-cloning/{training,results,voices,config} ./"
      ],
      "metadata": {
        "id": "CJ2rCvmznwbW"
      },
      "execution_count": null,
      "outputs": []
    },
    {
      "cell_type": "markdown",
      "source": [
        "Running"
      ],
      "metadata": {
        "id": "NNA3e8kwoHrj"
      }
    },
    {
      "cell_type": "code",
      "source": [
        "%cd /content/ai-voice-cloning/\n",
        "# Trun On Venv if you want to\n",
        "# !apt install python3.10-venv\n",
        "# !python3 -m venv venv\n",
        "# !source ./venv/bin/activate\n",
        "!python3 ./src/main.py --share"
      ],
      "metadata": {
        "id": "rzn3d5TBoI3O"
      },
      "execution_count": null,
      "outputs": []
    },
    {
      "cell_type": "markdown",
      "source": [
        "Exit (Stop Runtime)"
      ],
      "metadata": {
        "id": "h_SwR_mNoQZq"
      }
    },
    {
      "cell_type": "code",
      "source": [
        "exit()"
      ],
      "metadata": {
        "id": "0ar5kjiCoULf"
      },
      "execution_count": null,
      "outputs": []
    },
    {
      "cell_type": "markdown",
      "source": [
        "Fallback Training"
      ],
      "metadata": {
        "id": "dKxotuimoWsU"
      }
    },
    {
      "cell_type": "code",
      "source": [
        "# This is in case you can't get training through the web UI\n",
        "%cd /content/ai-voice-cloning\n",
        "!python ./dlas/codes/train.py -opt ./training/finetune.yaml"
      ],
      "metadata": {
        "id": "-XHnpKrloXh-"
      },
      "execution_count": null,
      "outputs": []
    },
    {
      "cell_type": "markdown",
      "source": [
        "Exporting data (if you don't want to use drive)"
      ],
      "metadata": {
        "id": "m4v_GOpYodUW"
      }
    },
    {
      "cell_type": "code",
      "source": [
        "# if you're not using drive mounting\n",
        "%cd /content/ai-voice-cloning\n",
        "!apt install -y p7zip-full\n",
        "from datetime import datetime\n",
        "timestamp = datetime.now().strftime('%m-%d-%Y_%H:%M:%S')\n",
        "!mkdir -p \"../{timestamp}/results\"\n",
        "!mv ./results/* \"../{timestamp}/results/.\"\n",
        "!mv ./training/* \"../{timestamp}/training/.\"\n",
        "!7z a -t7z -m0=lzma2 -mx=9 -mfb=64 -md=32m -ms=on \"../{timestamp}.7z\" \"../{timestamp}/\"\n",
        "!ls ~/\n",
        "!echo \"Finished zipping, archive is available at {timestamp}.7z\""
      ],
      "metadata": {
        "id": "3zgLy3Zlog48"
      },
      "execution_count": null,
      "outputs": []
    }
  ]
}